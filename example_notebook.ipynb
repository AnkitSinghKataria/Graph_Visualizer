{
 "cells": [
  {
   "cell_type": "code",
   "execution_count": null,
   "id": "a9bfeb49-4478-4dc1-a8ca-7a4507ce83ba",
   "metadata": {},
   "outputs": [],
   "source": []
  }
 ],
 "metadata": {
  "kernelspec": {
   "display_name": "",
   "name": ""
  },
  "language_info": {
   "name": ""
  }
 },
 "nbformat": 4,
 "nbformat_minor": 5
}
